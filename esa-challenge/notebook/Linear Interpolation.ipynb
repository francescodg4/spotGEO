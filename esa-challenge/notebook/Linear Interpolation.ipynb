{
 "cells": [
  {
   "cell_type": "code",
   "execution_count": 17,
   "metadata": {},
   "outputs": [
    {
     "data": {
      "image/png": "[encoded data removed]",
      "text/plain": [
       "<Figure size 1080x360 with 2 Axes>"
      ]
     },
     "metadata": {},
     "output_type": "display_data"
    }
   ],
   "source": [
    "%matplotlib inline\n",
    "\n",
    "from matplotlib import pyplot as plt\n",
    "import numpy as np\n",
    "\n",
    "X3 = np.array([\n",
    "    [145, 108],\n",
    "    [159, 116],\n",
    "    [173, 126],\n",
    "    [187, 135],\n",
    "    [201, 145]\n",
    "])\n",
    "\n",
    "\n",
    "X1 = np.array([\n",
    "    [370, 175],\n",
    "    [385, 183],\n",
    "    [400, 191],\n",
    "    [413, 200],\n",
    "    [428, 209]\n",
    "])\n",
    "\n",
    "X2 = np.array([\n",
    "    [362, 165],\n",
    "    [377, 173],\n",
    "    [391, 182],\n",
    "    [406, 190],\n",
    "    [420, 200]\n",
    "])\n",
    "\n",
    "fig, axs = plt.subplots(1,2,figsize=(15,5))\n",
    "\n",
    "axs[0].plot(X1[:,0], 'x', label=\"x1\")\n",
    "axs[0].plot(X2[:,0], 'x', label=\"x2\")\n",
    "axs[0].plot(X3[:,0], 'x', label=\"x3\")\n",
    "axs[0].legend()\n",
    "\n",
    "axs[1].plot(X1[:,1], 'o', label=\"y1\")\n",
    "axs[1].plot(X2[:,1], 'o', label=\"y2\")\n",
    "axs[1].plot(X3[:,1], 'o', label=\"y3\")\n",
    "axs[1].legend()\n",
    "\n",
    "plt.show()"
   ]
  },
  {
   "cell_type": "code",
   "execution_count": 27,
   "metadata": {},
   "outputs": [
    {
     "data": {
      "image/png": "[encoded data removed]",
      "text/plain": [
       "<Figure size 432x288 with 1 Axes>"
      ]
     },
     "metadata": {},
     "output_type": "display_data"
    }
   ],
   "source": [
    "from sklearn.linear_model import LinearRegression\n",
    "\n",
    "lr = LinearRegression()\n",
    "\n",
    "lr.fit(X3[:,0].reshape(-1,1), X3[:,1])\n",
    "\n",
    "t = np.linspace(120,250).reshape(-1,1)\n",
    "z = lr.predict(t)\n",
    "\n",
    "plt.scatter(X3[:,0], X3[:,1])\n",
    "plt.plot(t, z)\n",
    "plt.show()"
   ]
  },
  {
   "cell_type": "code",
   "execution_count": 37,
   "metadata": {},
   "outputs": [
    {
     "name": "stdout",
     "output_type": "stream",
     "text": [
      "[15 15 13 15]\n",
      "[8 8 9 9]\n"
     ]
    }
   ],
   "source": [
    "dx = X1[1:,0] - X1[:-1,0]\n",
    "dy = X1[1:,1] - X1[:-1,1]\n",
    "\n",
    "print(dx)\n",
    "print(dy)"
   ]
  },
  {
   "cell_type": "code",
   "execution_count": 111,
   "metadata": {},
   "outputs": [
    {
     "name": "stdout",
     "output_type": "stream",
     "text": [
      "[0 3]\n",
      "14.666666666666666\n",
      "362.0 362.0\n",
      "[[362.         165.        ]\n",
      " [376.66666667 173.33333333]\n",
      " [391.33333333 181.66666667]\n",
      " [406.         190.        ]\n",
      " [420.66666667 198.33333333]]\n",
      "[[362 165]\n",
      " [377 173]\n",
      " [391 182]\n",
      " [406 190]\n",
      " [420 200]]\n"
     ]
    }
   ],
   "source": [
    "Xin = X2\n",
    "\n",
    "Q = np.float64(Xin).copy()\n",
    "\n",
    "# Q[0] = [np.nan, np.nan]\n",
    "Q[1] = [np.nan, np.nan]\n",
    "Q[2] = [np.nan, np.nan]\n",
    "# Q[3] = [np.nan, np.nan]\n",
    "Q[4] = [np.nan, np.nan]\n",
    "\n",
    "idxs = np.where(np.all(~np.isnan(Q), axis=-1))[0]\n",
    "c_idxs = np.where(np.all(np.isnan(Q), axis=-1))[0]\n",
    "\n",
    "print(idxs)\n",
    "\n",
    "Sx = Q[idxs,0]\n",
    "Si = idxs\n",
    "\n",
    "lr = LinearRegression().fit(Q[idxs,0].reshape(-1,1), Q[idxs,1])\n",
    "\n",
    "dx = np.absolute(Sx[1:] - Sx[:-1])\n",
    "dx /= np.absolute(Si[1:] - Si[:-1])\n",
    "dx = np.mean(dx)\n",
    "\n",
    "# print(Sx, Si)\n",
    "print(dx)\n",
    "\n",
    "x0 = Sx[0] - Si[0]*dx\n",
    "\n",
    "print(x0, Sx[0])\n",
    "\n",
    "for i in c_idxs:\n",
    "    Q[i,0] = Sx[0]+(i - Si[0])*dx\n",
    "    Q[i,1] = lr.predict(Q[i,0].reshape(-1,1))\n",
    "\n",
    "print(Q)\n",
    "print(Xin)"
   ]
  }
 ],
 "metadata": {
  "kernelspec": {
   "display_name": "Python 3",
   "language": "python",
   "name": "python3"
  },
  "language_info": {
   "codemirror_mode": {
    "name": "ipython",
    "version": 3
   },
   "file_extension": ".py",
   "mimetype": "text/x-python",
   "name": "python",
   "nbconvert_exporter": "python",
   "pygments_lexer": "ipython3",
   "version": "3.6.9"
  }
 },
 "nbformat": 4,
 "nbformat_minor": 2
}
