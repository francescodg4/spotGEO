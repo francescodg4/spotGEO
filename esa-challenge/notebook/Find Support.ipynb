{
 "cells": [
  {
   "cell_type": "code",
   "execution_count": 33,
   "metadata": {},
   "outputs": [],
   "source": [
    "%matplotlib inline\n",
    "\n",
    "import numpy as np\n",
    "import matplotlib.pyplot as plt\n",
    "\n",
    "from sklearn.linear_model import LinearRegression\n",
    "from sklearn.neighbors import NearestNeighbors"
   ]
  },
  {
   "cell_type": "code",
   "execution_count": 34,
   "metadata": {},
   "outputs": [
    {
     "data": {
      "image/png": "[encoded data removed]",
      "text/plain": [
       "<Figure size 432x288 with 1 Axes>"
      ]
     },
     "metadata": {},
     "output_type": "display_data"
    },
    {
     "name": "stdout",
     "output_type": "stream",
     "text": [
      "[[0.  0. ]\n",
      " [0.1 0.2]\n",
      " [0.2 0.4]\n",
      " [0.3 0.6]\n",
      " [0.4 0.8]]\n",
      "[[0.  0. ]\n",
      " [0.3 0.4]\n",
      " [0.6 0.8]\n",
      " [0.9 1.2]\n",
      " [1.2 1.6]]\n"
     ]
    }
   ],
   "source": [
    "t = np.arange(0, 5)\n",
    "\n",
    "x1 = np.array([0, 0]) + np.c_[0.1*t, 0.2*t]\n",
    "x2 = np.array([0, 0]) + np.c_[0.3*t, 0.4*t]\n",
    "\n",
    "plt.scatter(x1[:, 0], x1[:, 1])\n",
    "plt.scatter(x2[:, 0], x2[:, 1])\n",
    "\n",
    "plt.show()\n",
    "\n",
    "print(x1)\n",
    "print(x2)"
   ]
  },
  {
   "cell_type": "code",
   "execution_count": 35,
   "metadata": {},
   "outputs": [
    {
     "name": "stdout",
     "output_type": "stream",
     "text": [
      "[[array([0., 0.])], [array([0.3, 0.4]), [2, 3]], [array([0.6, 0.8])], [array([0.9, 1.2]), array([0.3, 0.6])], [array([0.4, 0.8]), array([1.2, 1.6])]]\n"
     ]
    },
    {
     "data": {
      "image/png": "[encoded data removed]",
      "text/plain": [
       "<Figure size 432x288 with 1 Axes>"
      ]
     },
     "metadata": {},
     "output_type": "display_data"
    }
   ],
   "source": [
    "Ds = [\n",
    "    [x1[0]], # points cannot be replicated\n",
    "    # [x2[1], x1[1], [2, 3]],\n",
    "    [x2[1], [2, 3]],\n",
    "    # [x1[2], x2[2]],\n",
    "    [x2[2]],\n",
    "    [x2[3], x1[3]],\n",
    "    [x1[4], x2[4]],\n",
    "]\n",
    "\n",
    "print(Ds)\n",
    "\n",
    "colors = ['b', 'r', 'g', 'c', 'k']\n",
    "\n",
    "for i in range(0, 5):\n",
    "    D = np.array(Ds[i])\n",
    "    plt.scatter(D[:, 0], D[:, 1], c=colors[i])\n",
    "\n",
    "plt.show()"
   ]
  },
  {
   "cell_type": "code",
   "execution_count": 36,
   "metadata": {},
   "outputs": [],
   "source": [
    "def support_estimate(Ds, nns, sup_i, est_i, tol=0.05, radius=100):\n",
    "    supports = []\n",
    "    \n",
    "    sup_i0, sup_i1 = sup_i # Support indexes\n",
    "    \n",
    "    # Maybe buggy\n",
    "    # neigh_dist, _ = nns[sup_i1].radius_neighbors(Ds[sup_i0], radius=radius)\n",
    "    # idxs_sorted = [np.argsort(neigh_d) for neigh_d in neigh_dist]\n",
    "    \n",
    "    # Should be correct\n",
    "    neigh_dist, _ = nns[sup_i1].radius_neighbors(Ds[sup_i0], radius=np.inf)\n",
    "    idxs_sorted = [np.argsort(neigh_d) for neigh_d in neigh_dist]\n",
    "    \n",
    "    for j_sup0, p_sup0 in enumerate(Ds[sup_i0]):        \n",
    "        for j_sup1 in idxs_sorted[j_sup0]:    \n",
    "            support = -1*np.ones(5, dtype='int')\n",
    "            \n",
    "            support[sup_i0] = j_sup0\n",
    "            support[sup_i1] = j_sup1            \n",
    "\n",
    "            # Use support pair to fit a linear model\n",
    "            p_sup0 = Ds[sup_i0][j_sup0]\n",
    "            p_sup1 = Ds[sup_i1][j_sup1]\n",
    "            \n",
    "            if np.linalg.norm(p_sup0 - p_sup1) > radius:\n",
    "                 continue\n",
    "                \n",
    "            v = np.array([p_sup0, p_sup1])\n",
    "            t = np.array([[sup_i0], [sup_i1]])\n",
    "\n",
    "            lr = LinearRegression().fit(t, v)\n",
    "\n",
    "            # Use this pair to estimate subsequent frames\n",
    "            t_est = np.array(est_i).reshape(-1, 1)\n",
    "            est = lr.predict(t_est)\n",
    "            \n",
    "            # Check if estimates match points in subsequent frames\n",
    "            for j, e in enumerate(est):\n",
    "                dist, idxs = nns[est_i[j]].radius_neighbors([e], radius=tol)\n",
    "                \n",
    "                if dist[0].size > 0:                    \n",
    "                    closest_idx = idxs[0][np.argmin(dist[0])]\n",
    "                    # Add closest match to support or negative index if no match is found\n",
    "                    support[est_i[j]] = closest_idx\n",
    "                else:\n",
    "                    support[est_i[j]] = -1 \n",
    "\n",
    "            # Add to support only if at least 3 matches are found\n",
    "            count = np.sum(support >= 0)\n",
    "            \n",
    "            if np.sum(support >= 0) >= 3:               \n",
    "                supports.append( support )\n",
    "        \n",
    "    return supports"
   ]
  },
  {
   "cell_type": "code",
   "execution_count": 37,
   "metadata": {},
   "outputs": [
    {
     "name": "stdout",
     "output_type": "stream",
     "text": [
      "[[ 0  0  0  0  1]\n",
      " [-1  0  0  0  1]\n",
      " [-1 -1  0  0  1]\n",
      " [ 0 -1 -1  1  0]\n",
      " [ 0  0  0  0  1]\n",
      " [ 0  0  0  0 -1]\n",
      " [ 0  0  0 -1 -1]]\n",
      "[array([0., 0.]), array([0.3, 0.4]), array([0.6, 0.8]), array([0.9, 1.2]), array([1.2, 1.6])]\n",
      "[array([], dtype=float64), array([0.3, 0.4]), array([0.6, 0.8]), array([0.9, 1.2]), array([1.2, 1.6])]\n",
      "[array([], dtype=float64), array([], dtype=float64), array([0.6, 0.8]), array([0.9, 1.2]), array([1.2, 1.6])]\n",
      "[array([0., 0.]), array([], dtype=float64), array([], dtype=float64), array([0.3, 0.6]), array([0.4, 0.8])]\n",
      "[array([0., 0.]), array([0.3, 0.4]), array([0.6, 0.8]), array([0.9, 1.2]), array([1.2, 1.6])]\n",
      "[array([0., 0.]), array([0.3, 0.4]), array([0.6, 0.8]), array([0.9, 1.2]), array([], dtype=float64)]\n",
      "[array([0., 0.]), array([0.3, 0.4]), array([0.6, 0.8]), array([], dtype=float64), array([], dtype=float64)]\n"
     ]
    }
   ],
   "source": [
    "# Test support estimate\n",
    "nns = [NearestNeighbors(metric='euclidean').fit(Ds[i]) for i in range(0, 5)]\n",
    "\n",
    "# Forward pass\n",
    "supports = support_estimate(Ds, nns, [0, 1], [2, 3, 4])\n",
    "supports += support_estimate(Ds, nns, [1, 2], [3, 4])\n",
    "supports += support_estimate(Ds, nns, [2, 3], [4])\n",
    "# Backward pass\n",
    "supports += support_estimate(Ds, nns, [4, 3], [2, 1, 0])\n",
    "supports += support_estimate(Ds, nns, [3, 2], [1, 0])\n",
    "supports += support_estimate(Ds, nns, [2, 1], [0])\n",
    "\n",
    "supports = np.array(supports)\n",
    "\n",
    "print(supports)\n",
    "\n",
    "for support in supports:\n",
    "    row = []\n",
    "    \n",
    "    for i, s in enumerate(support):        \n",
    "        if s == -1:\n",
    "            row.append(np.array([]))\n",
    "        else:\n",
    "            row.append(Ds[i][s])\n",
    "        \n",
    "    print(row)"
   ]
  },
  {
   "cell_type": "code",
   "execution_count": 38,
   "metadata": {},
   "outputs": [],
   "source": [
    "# Remove subsequences\n",
    "\n",
    "def remove_subsequences(supports):\n",
    "\n",
    "    output = supports.copy()\n",
    "\n",
    "    for i, support in enumerate(supports):\n",
    "        a = support\n",
    "        a[a == -1]\n",
    "        query = a[a != -1]\n",
    "\n",
    "        Q = supports[:, (a != -1)]\n",
    "\n",
    "        row = np.max(supports[np.all(query == Q, axis=1)], axis=0)\n",
    "        \n",
    "        output[i] = row\n",
    "        \n",
    "    return np.unique(output, axis=0)"
   ]
  },
  {
   "cell_type": "code",
   "execution_count": 39,
   "metadata": {},
   "outputs": [
    {
     "name": "stdout",
     "output_type": "stream",
     "text": [
      "[[ 3  1  2  0 -1]\n",
      " [ 4  2  4  1 -1]\n",
      " [ 7  5 15 10  1]\n",
      " [-1  1  2  0 -1]\n",
      " [-1  2  4  1 -1]\n",
      " [-1  5 15 10  1]\n",
      " [-1 -1 15 10  1]\n",
      " [ 7  5 15 10  1]\n",
      " [ 3  1  2  0 -1]\n",
      " [ 4  2  4  1 -1]\n",
      " [ 7  5 15 10 -1]\n",
      " [ 3  1  2 -1 -1]\n",
      " [ 4  2  4 -1 -1]\n",
      " [ 7  5 15 -1 -1]\n",
      " [ 6  4 16 -1 -1]]\n",
      "output\n",
      "[[ 3  1  2  0 -1]\n",
      " [ 4  2  4  1 -1]\n",
      " [ 6  4 16 -1 -1]\n",
      " [ 7  5 15 10  1]]\n"
     ]
    }
   ],
   "source": [
    "# Test remove subsequences\n",
    "\n",
    "supports = [\n",
    "    [ 3,  1,  2,  0, -1],\n",
    "    [ 4,  2,  4,  1, -1],\n",
    "    [ 7,  5, 15, 10,  1],\n",
    "    [-1,  1,  2,  0, -1],\n",
    "    [-1,  2,  4,  1, -1],\n",
    "    [-1,  5, 15, 10,  1],\n",
    "    [-1, -1, 15, 10,  1],\n",
    "    [ 7,  5, 15, 10,  1],\n",
    "    [ 3,  1,  2,  0, -1],\n",
    "    [ 4,  2,  4,  1, -1],\n",
    "    [ 7,  5, 15, 10, -1],\n",
    "    [ 3,  1,  2, -1, -1],\n",
    "    [ 4,  2,  4, -1, -1],\n",
    "    [ 7,  5, 15, -1, -1],\n",
    "    [ 6,  4, 16, -1, -1]\n",
    "]\n",
    "\n",
    "supports = np.array(supports)\n",
    "\n",
    "print(supports)\n",
    "\n",
    "print('output')\n",
    "print(remove_subsequences(supports))"
   ]
  },
  {
   "cell_type": "code",
   "execution_count": 40,
   "metadata": {},
   "outputs": [],
   "source": [
    "def find_support(Ds, radius=100, tol=5):    \n",
    "    nns = [NearestNeighbors(metric='euclidean').fit(Ds[i]) for i in range(0, 5)]\n",
    "        \n",
    "    # Forward pass    \n",
    "    supports = support_estimate(Ds, nns, [0, 1], [2, 3, 4], radius=radius, tol=tol)\n",
    "    supports += support_estimate(Ds, nns, [1, 2], [3, 4], radius=radius, tol=tol)\n",
    "    supports += support_estimate(Ds, nns, [2, 3], [4], radius=radius, tol=tol)\n",
    "    # Backward pass\n",
    "    supports += support_estimate(Ds, nns, [4, 3], [2, 1, 0], radius=radius, tol=tol)\n",
    "    supports += support_estimate(Ds, nns, [3, 2], [1, 0], radius=radius, tol=tol)\n",
    "    supports += support_estimate(Ds, nns, [2, 1], [0], radius=radius, tol=tol)\n",
    "\n",
    "    supports = np.array(supports)\n",
    "    \n",
    "    return remove_subsequences(supports)"
   ]
  },
  {
   "cell_type": "code",
   "execution_count": 41,
   "metadata": {},
   "outputs": [
    {
     "data": {
      "image/png": "[encoded data removed]",
      "text/plain": [
       "<Figure size 432x288 with 1 Axes>"
      ]
     },
     "metadata": {},
     "output_type": "display_data"
    },
    {
     "name": "stdout",
     "output_type": "stream",
     "text": [
      "[[-1 -1  3  1  0]\n",
      " [ 1  0  5  2  3]\n",
      " [ 2 -1  6  3  5]\n",
      " [ 4  1  8  6  6]]\n",
      "coords per frame\n",
      "0 [array([301, 134]), array([336, 137]), array([502, 186])]\n",
      "1 [array([327, 141]), array([528, 193])]\n",
      "2 [array([210, 113]), array([353, 147]), array([388, 150]), array([553, 199])]\n",
      "3 [array([236, 119]), array([379, 153]), array([414, 156]), array([579, 205])]\n",
      "4 [array([262, 126]), array([405, 160]), array([440, 162]), array([605, 212])]\n",
      "Coords per object\n",
      "[(2, array([210, 113])), (3, array([236, 119])), (4, array([262, 126]))]\n",
      "[(0, array([301, 134])), (1, array([327, 141])), (2, array([353, 147])), (3, array([379, 153])), (4, array([405, 160]))]\n",
      "[(0, array([336, 137])), (2, array([388, 150])), (3, array([414, 156])), (4, array([440, 162]))]\n",
      "[(0, array([502, 186])), (1, array([528, 193])), (2, array([553, 199])), (3, array([579, 205])), (4, array([605, 212]))]\n"
     ]
    },
    {
     "data": {
      "image/png": "[encoded data removed]",
      "text/plain": [
       "<Figure size 432x288 with 1 Axes>"
      ]
     },
     "metadata": {},
     "output_type": "display_data"
    }
   ],
   "source": [
    "import pickle\n",
    "\n",
    "Ds1 = pickle.load(open('ds.pkl', 'rb'))\n",
    "\n",
    "for i in range(0, 5):\n",
    "    D = np.array(Ds1[i])\n",
    "    plt.scatter(D[:, 0], D[:, 1], c=colors[i])\n",
    "\n",
    "plt.show()\n",
    "\n",
    "# Find support\n",
    "S = find_support(Ds1, radius=50, tol=5)\n",
    "print(S)\n",
    "\n",
    "coords_per_frame = [[Ds1[i][support[i]] for support in S if support[i] != -1] for i in range(0, 5)]\n",
    "coords_per_object = [[(i, Ds1[i][support[i]]) for i in range(0, 5) if support[i] != -1] for support in S]\n",
    "\n",
    "trajectories = [[np.append(i, Ds1[i][support[i]]) for i in range(0, 5) if support[i] != -1] for support in S]\n",
    "\n",
    "print('coords per frame')\n",
    "for i, coords in enumerate(coords_per_frame):\n",
    "    print(i, coords)\n",
    "\n",
    "print('Coords per object')\n",
    "for obj in coords_per_object:\n",
    "    print(obj)\n",
    "    \n",
    "for frameid in range(0, 5):\n",
    "    plt.scatter(np.array(Ds1[frameid])[:, 0], np.array(Ds1[frameid])[:, 1], c='k', marker='x')\n",
    "    \n",
    "for obj in coords_per_object:\n",
    "    for frameid, coords in obj:        \n",
    "        plt.scatter(coords[0], coords[1], color=colors[frameid])\n",
    "    \n",
    "plt.show()\n",
    "    "
   ]
  },
  {
   "cell_type": "code",
   "execution_count": 42,
   "metadata": {},
   "outputs": [
    {
     "name": "stdout",
     "output_type": "stream",
     "text": [
      "[[array([  2, 210, 113]), array([  3, 236, 119]), array([  4, 262, 126])], [array([  0, 301, 134]), array([  1, 327, 141]), array([  2, 353, 147]), array([  3, 379, 153]), array([  4, 405, 160])], [array([  0, 336, 137]), array([  2, 388, 150]), array([  3, 414, 156]), array([  4, 440, 162])], [array([  0, 502, 186]), array([  1, 528, 193]), array([  2, 553, 199]), array([  3, 579, 205]), array([  4, 605, 212])]]\n"
     ]
    }
   ],
   "source": [
    "print( trajectories )"
   ]
  },
  {
   "cell_type": "code",
   "execution_count": 43,
   "metadata": {},
   "outputs": [],
   "source": [
    "# Interpolate missing values\n",
    "\n",
    "def interpolate(trajectory):\n",
    "    trajectory = np.array(trajectory)\n",
    "\n",
    "    lr = LinearRegression().fit(trajectory[:, 0].reshape(-1, 1), trajectory[:, [1, 2]])\n",
    "    \n",
    "    coords = []\n",
    "\n",
    "    for frameid in range(0, 5):\n",
    "        c = trajectory[trajectory[:, 0] == frameid][:, [1, 2]]\n",
    "        \n",
    "        if len(c) > 0:\n",
    "            coords.append(c[0])\n",
    "        else:\n",
    "            pred = lr.predict([[frameid]])\n",
    "            coords.append(pred[0])            \n",
    "        \n",
    "    return np.array(coords)"
   ]
  },
  {
   "cell_type": "code",
   "execution_count": 44,
   "metadata": {},
   "outputs": [
    {
     "name": "stdout",
     "output_type": "stream",
     "text": [
      "[[[265.75000000000006, 60.46333333333334], [408.75, 94.63], [443.75, 97.63], [609.75, 146.63]], [[237.87500000000006, 86.64833333333334], [380.875, 121.315], [415.875, 123.74357142857144], [581.875, 173.315]], [[210.0, 113.0], [353.0, 147.0], [388.0, 150.0], [553.0, 199.0]], [[182.125, 138.685], [325.125, 172.685], [360.125, 175.685], [525.125, 224.685]], [[154.25, 165.37], [297.25, 199.37], [332.25, 201.37], [497.25, 251.37]]]\n"
     ]
    }
   ],
   "source": [
    "import pickle\n",
    "\n",
    "Ts = pickle.load(open('ts.pkl', 'rb'))\n",
    "\n",
    "from skimage import transform\n",
    "\n",
    "# Interpolate coordinates\n",
    "interpolated = [interpolate(trajectory) for trajectory in trajectories]\n",
    "\n",
    "# Convert to frame-first\n",
    "object_coords = []\n",
    "\n",
    "for frameid in range(0, 5):\n",
    "    coords = np.stack([c[frameid] for c in interpolated])\n",
    "    object_coords.append(coords)\n",
    "\n",
    "# Transform to original reference frame\n",
    "for frameid, coords in enumerate(object_coords):\n",
    "    object_coords[frameid] = transform.matrix_transform(coords, np.linalg.inv(Ts[frameid]))\n",
    "\n",
    "object_coords = [o.tolist() for o in object_coords]\n",
    "\n",
    "print(object_coords)"
   ]
  },
  {
   "cell_type": "code",
   "execution_count": 45,
   "metadata": {},
   "outputs": [
    {
     "name": "stdout",
     "output_type": "stream",
     "text": [
      "[{'sequence_id': 1, 'frame': 0, 'num_objects': 4, 'object_coords': [[265.75000000000006, 60.46333333333334], [408.75, 94.63], [443.75, 97.63], [609.75, 146.63]]}, {'sequence_id': 1, 'frame': 1, 'num_objects': 4, 'object_coords': [[237.87500000000006, 86.64833333333334], [380.875, 121.315], [415.875, 123.74357142857144], [581.875, 173.315]]}, {'sequence_id': 1, 'frame': 2, 'num_objects': 4, 'object_coords': [[210.0, 113.0], [353.0, 147.0], [388.0, 150.0], [553.0, 199.0]]}, {'sequence_id': 1, 'frame': 3, 'num_objects': 4, 'object_coords': [[182.125, 138.685], [325.125, 172.685], [360.125, 175.685], [525.125, 224.685]]}, {'sequence_id': 1, 'frame': 4, 'num_objects': 4, 'object_coords': [[154.25, 165.37], [297.25, 199.37], [332.25, 201.37], [497.25, 251.37]]}]\n"
     ]
    }
   ],
   "source": [
    "from skimage import transform\n",
    "\n",
    "seqid = 1\n",
    "\n",
    "predictions = []\n",
    "\n",
    "for frameid, coords in enumerate(object_coords):    \n",
    "    prediction = {'sequence_id': seqid, 'frame': frameid, 'num_objects': len(coords), 'object_coords': coords}\n",
    "    predictions.append(prediction)\n",
    "    \n",
    "print(predictions)"
   ]
  }
 ],
 "metadata": {
  "kernelspec": {
   "display_name": "Python 3",
   "language": "python",
   "name": "python3"
  },
  "language_info": {
   "codemirror_mode": {
    "name": "ipython",
    "version": 3
   },
   "file_extension": ".py",
   "mimetype": "text/x-python",
   "name": "python",
   "nbconvert_exporter": "python",
   "pygments_lexer": "ipython3",
   "version": "3.6.9"
  }
 },
 "nbformat": 4,
 "nbformat_minor": 2
}
