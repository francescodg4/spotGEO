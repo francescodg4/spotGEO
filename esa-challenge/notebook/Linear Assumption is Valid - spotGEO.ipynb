{
 "cells": [
  {
   "cell_type": "code",
   "execution_count": 13,
   "metadata": {},
   "outputs": [],
   "source": [
    "%matplotlib inline\n",
    "\n",
    "import json\n",
    "import numpy as np\n",
    "import matplotlib.pyplot as plt\n",
    "    \n",
    "def read_annotation_file(path):\n",
    "    '''This creates a dictionary where the first key is the sequence id,\n",
    "    and the second key is the frame id, which contains a list of the \n",
    "    annotation points as lists of floating numbers.\n",
    "    For example sequence #1 shown above contains 3 objects, which are visible in both frames #1 and #3.'''\n",
    "    with open(path) as annotation_file:\n",
    "        annotation_list = json.load(annotation_file)\n",
    "    # Transform list of annotations into dictionary\n",
    "    annotation_dict = {}\n",
    "    for annotation in annotation_list:\n",
    "        sequence_id = annotation['sequence_id']\n",
    "        if sequence_id not in annotation_dict:\n",
    "            annotation_dict[sequence_id] = {}\n",
    "        annotation_dict[sequence_id][annotation['frame']] = annotation['object_coords']\n",
    "    return annotation_dict\n",
    "\n",
    "anno = read_annotation_file('../spotGEO/train_anno.json')\n"
   ]
  },
  {
   "cell_type": "code",
   "execution_count": 68,
   "metadata": {},
   "outputs": [
    {
     "name": "stdout",
     "output_type": "stream",
     "text": [
      "1280 5\n",
      "1280 (array([], dtype=int64),)\n",
      "0.0 10.0\n",
      "447\n",
      "10\n"
     ]
    }
   ],
   "source": [
    "print('Training set contains', len(anno), 'with ', len(anno[1]), 'frames' )\n",
    "\n",
    "# Check all sequencies contain the same number of objects in each frame\n",
    "n_objects = np.array([np.sum([len(anno[seqid][i]) for i in range(1, 6)]) for seqid in range(1, len(anno) + 1)])\n",
    "n_objects = n_objects/5\n",
    "\n",
    "# If n_objects is not a multiple of 5, we have residuals\n",
    "check = (n_objects - (n_objects*5)//5)\n",
    "\n",
    "print( len(check), np.where(check > 0) )\n",
    "print( n_objects.min(), n_objects.max() )\n",
    "\n",
    "print( np.argmax(n_objects) )\n",
    "print( len(anno[448][1]) )"
   ]
  },
  {
   "cell_type": "code",
   "execution_count": 76,
   "metadata": {},
   "outputs": [],
   "source": [
    "seqid = 1\n",
    "objid = 0\n",
    "\n",
    "n_objects = np.array([np.sum([len(anno[seqid][i]) for i in range(1, 6)]) for seqid in range(1, len(anno) + 1)])\n",
    "n_objects = n_objects // 5"
   ]
  },
  {
   "cell_type": "code",
   "execution_count": 156,
   "metadata": {},
   "outputs": [
    {
     "name": "stdout",
     "output_type": "stream",
     "text": [
      "1280\n"
     ]
    }
   ],
   "source": [
    "from sklearn.linear_model import LinearRegression\n",
    "\n",
    "def check_linear(seqid):\n",
    "    \n",
    "    err = 0\n",
    "    \n",
    "    for objid in range(n_objects[seqid-1]):\n",
    "        X = np.array([ anno[seqid][i][objid] for i in range(1, 6)])\n",
    "        \n",
    "        n = np.arange(len(X)).reshape(-1,1)    \n",
    "        lr = LinearRegression()\n",
    "    \n",
    "        x = lr.fit(n, X[:,0]).predict(n)\n",
    "        y = lr.fit(n, X[:,1]).predict(n)\n",
    "\n",
    "        err_x = np.mean((x - X[:,0])**2)\n",
    "        err_y = np.mean((y - X[:,1])**2)\n",
    "    \n",
    "        err += err_x + err_y\n",
    "        \n",
    "    return err\n",
    "\n",
    "err = np.array([check_linear(i) for i in range(1, 1281)])\n",
    "print( len(err) )"
   ]
  },
  {
   "cell_type": "code",
   "execution_count": 157,
   "metadata": {},
   "outputs": [
    {
     "name": "stdout",
     "output_type": "stream",
     "text": [
      "(1280,)\n",
      "0.0 10.73035315146438\n",
      "232\n"
     ]
    }
   ],
   "source": [
    "print( errs.shape )\n",
    "# print( np.where(errs == None) )\n",
    "print( errs.min(), errs.max() )\n",
    "print( errs.argmax() )\n"
   ]
  },
  {
   "cell_type": "code",
   "execution_count": 174,
   "metadata": {},
   "outputs": [
    {
     "name": "stdout",
     "output_type": "stream",
     "text": [
      "[10.73035315 10.55665616  7.06782178  5.44285551  3.27041531  2.07874308\n",
      "  2.02071685  1.74315148  1.65053731  1.57710025]\n",
      "[ 232 1117 1245  713  534  126  458 1168 1095 1162]\n"
     ]
    }
   ],
   "source": [
    "print( np.flip(np.sort(errs), axis=0)[:10] )\n",
    "print( np.flip(np.argsort(errs), axis=0)[:10] )"
   ]
  },
  {
   "cell_type": "code",
   "execution_count": 193,
   "metadata": {},
   "outputs": [
    {
     "name": "stdout",
     "output_type": "stream",
     "text": [
      "[0. 0. 0. 0. 0. 0. 0. 0. 0. 0.]\n",
      "[1279  572  574 1136  576  578  581  582  584  586]\n"
     ]
    }
   ],
   "source": [
    "print( np.sort(errs)[:10] )\n",
    "print( np.argsort(errs)[:10] )"
   ]
  },
  {
   "cell_type": "code",
   "execution_count": 178,
   "metadata": {},
   "outputs": [
    {
     "data": {
      "image/png": "[encoded data removed]",
      "text/plain": [
       "<Figure size 432x288 with 1 Axes>"
      ]
     },
     "metadata": {},
     "output_type": "display_data"
    }
   ],
   "source": [
    "plt.hist(errs)\n",
    "plt.show()"
   ]
  },
  {
   "cell_type": "code",
   "execution_count": null,
   "metadata": {},
   "outputs": [],
   "source": [
    "# Fine, it's linear."
   ]
  },
  {
   "cell_type": "code",
   "execution_count": 177,
   "metadata": {},
   "outputs": [
    {
     "name": "stdout",
     "output_type": "stream",
     "text": [
      "errs [10.55665616]\n",
      "1\n"
     ]
    }
   ],
   "source": [
    "seqid = 1118\n",
    "\n",
    "seqerr = []\n",
    "    \n",
    "for objid in range(n_objects[seqid-1]):\n",
    "    X = np.array([ anno[seqid][i][objid] for i in range(1, 6)])\n",
    "    \n",
    "    n = np.arange(len(X)).reshape(-1,1)\n",
    "    \n",
    "    lr = LinearRegression()\n",
    "    \n",
    "    x = lr.fit(n, X[:,0]).predict(n)\n",
    "    y = lr.fit(n, X[:,1]).predict(n)\n",
    "\n",
    "    err_x = np.mean((x - X[:,0])**2)\n",
    "    err_y = np.mean((y - X[:,1])**2)\n",
    "    \n",
    "    err = err_x + err_y\n",
    "    \n",
    "    seqerr.append(err)\n",
    "    \n",
    "\n",
    "seqerr = np.array(seqerr)\n",
    "print('errs', seqerr)"
   ]
  },
  {
   "cell_type": "code",
   "execution_count": 195,
   "metadata": {},
   "outputs": [
    {
     "data": {
      "image/png": "[encoded data removed]",
      "text/plain": [
       "<Figure size 432x288 with 1 Axes>"
      ]
     },
     "metadata": {},
     "output_type": "display_data"
    },
    {
     "data": {
      "image/png": "[encoded data removed]",
      "text/plain": [
       "<Figure size 432x288 with 1 Axes>"
      ]
     },
     "metadata": {},
     "output_type": "display_data"
    }
   ],
   "source": [
    "# Example of bad linear movement\n",
    "\n",
    "seqid = 1118\n",
    "\n",
    "X = np.array([ anno[seqid][i][0] for i in range(1, 6)])\n",
    "\n",
    "n = np.arange(len(X)).reshape(-1,1)\n",
    "\n",
    "x = LinearRegression().fit(n, X[:,0]).predict(n)\n",
    "y = LinearRegression().fit(n, X[:,1]).predict(n)\n",
    "\n",
    "err_x = (x - X[:,0])**2\n",
    "err_y = (y - X[:,1])**2\n",
    "\n",
    "plt.scatter(X[:,0], X[:,1], marker='x', label='real')\n",
    "plt.scatter(x, y, marker='x', label='predicted')\n",
    "plt.legend()\n",
    "plt.show()\n",
    "\n",
    "plt.plot(err_x)\n",
    "plt.plot(err_y)\n",
    "plt.show()"
   ]
  }
 ],
 "metadata": {
  "kernelspec": {
   "display_name": "Python 3",
   "language": "python",
   "name": "python3"
  },
  "language_info": {
   "codemirror_mode": {
    "name": "ipython",
    "version": 3
   },
   "file_extension": ".py",
   "mimetype": "text/x-python",
   "name": "python",
   "nbconvert_exporter": "python",
   "pygments_lexer": "ipython3",
   "version": "3.6.9"
  }
 },
 "nbformat": 4,
 "nbformat_minor": 2
}
